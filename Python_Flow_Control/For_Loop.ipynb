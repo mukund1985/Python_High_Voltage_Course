{
 "cells": [
  {
   "cell_type": "markdown",
   "metadata": {},
   "source": [
    "# Python for Loop\n",
    "\n",
    "- The for loop in Python is used to iterate over a sequence (list, tuple, string) or other iterable objects. Iterating over a sequence is called traversal."
   ]
  },
  {
   "cell_type": "code",
   "execution_count": null,
   "metadata": {},
   "outputs": [],
   "source": [
    "for val in sequence:\n",
    "    Body of for"
   ]
  },
  {
   "cell_type": "markdown",
   "metadata": {},
   "source": [
    "- Here, val is the variable that takes the value of the item inside the sequence on each iteration.\n",
    "\n",
    "- Loop continues until we reach the last item in the sequence. The body of for loop is separated from the rest of the code using indentation."
   ]
  },
  {
   "cell_type": "markdown",
   "metadata": {},
   "source": [
    "### Example:-"
   ]
  },
  {
   "cell_type": "code",
   "execution_count": 5,
   "metadata": {},
   "outputs": [
    {
     "name": "stdout",
     "output_type": "stream",
     "text": [
      "Value is:  1\n",
      "1\n",
      "Value is:  2\n",
      "3\n",
      "Value is:  3\n",
      "6\n",
      "Value is:  4\n",
      "10\n",
      "Value is:  5\n",
      "15\n",
      "Value is:  6\n",
      "21\n",
      "Value is:  7\n",
      "28\n",
      "Value is:  8\n",
      "36\n",
      "Value is:  9\n",
      "45\n",
      "Value is:  10\n",
      "55\n",
      "\n",
      "The sum is:  55\n"
     ]
    }
   ],
   "source": [
    "# Program to find the sum of all numbers stored in a list. \n",
    "\n",
    "# List of numbers = \n",
    "\n",
    "num = [1,2,3,4,5,6,7,8,9,10]\n",
    "\n",
    "# Variable to store the sum \n",
    "\n",
    "sum = 0\n",
    "\n",
    "# iterate over the list \n",
    "\n",
    "for val in num:\n",
    "    print(\"Value is: \", val)\n",
    "    sum = sum + val\n",
    "    print(sum)\n",
    "print()\n",
    "print(\"The sum is: \", sum)"
   ]
  },
  {
   "cell_type": "code",
   "execution_count": 78,
   "metadata": {},
   "outputs": [
    {
     "name": "stdout",
     "output_type": "stream",
     "text": [
      "cat 3\n",
      "windows 7\n",
      "defenstrate 11\n"
     ]
    }
   ],
   "source": [
    "words = ['cat', 'windows', 'defenstrate']\n",
    "\n",
    "for w in words:\n",
    "    print(w, len(w))"
   ]
  },
  {
   "cell_type": "markdown",
   "metadata": {},
   "source": [
    "### Range() Function\n",
    "\n",
    "- We can generate a sequence of numbers using range() function. range(10) will generate numbers from 0 to 9 (10 numbers)."
   ]
  },
  {
   "cell_type": "code",
   "execution_count": 6,
   "metadata": {},
   "outputs": [
    {
     "name": "stdout",
     "output_type": "stream",
     "text": [
      "range(0, 10)\n"
     ]
    }
   ],
   "source": [
    "print(range(10))"
   ]
  },
  {
   "cell_type": "code",
   "execution_count": 7,
   "metadata": {},
   "outputs": [
    {
     "name": "stdout",
     "output_type": "stream",
     "text": [
      "[0, 1, 2, 3, 4, 5, 6, 7, 8, 9]\n"
     ]
    }
   ],
   "source": [
    "print(list(range(10)))"
   ]
  },
  {
   "cell_type": "code",
   "execution_count": 8,
   "metadata": {},
   "outputs": [
    {
     "name": "stdout",
     "output_type": "stream",
     "text": [
      "[2, 3, 4, 5, 6]\n"
     ]
    }
   ],
   "source": [
    "print(list(range(2,7)))"
   ]
  },
  {
   "cell_type": "code",
   "execution_count": 9,
   "metadata": {},
   "outputs": [
    {
     "name": "stdout",
     "output_type": "stream",
     "text": [
      "[2, 4, 6, 8]\n"
     ]
    }
   ],
   "source": [
    "print(list(range(2,10,2)))"
   ]
  },
  {
   "cell_type": "markdown",
   "metadata": {},
   "source": [
    "### Using Range() Function in For Loop"
   ]
  },
  {
   "cell_type": "markdown",
   "metadata": {},
   "source": [
    "#### Iterate Through a list []"
   ]
  },
  {
   "cell_type": "code",
   "execution_count": 11,
   "metadata": {},
   "outputs": [
    {
     "name": "stdout",
     "output_type": "stream",
     "text": [
      "I like pop\n",
      "I like rock\n",
      "I like jazz\n"
     ]
    }
   ],
   "source": [
    "# Program to iterate through a list using indexing. \n",
    "\n",
    "genre = ['pop', 'rock', 'jazz']\n",
    "\n",
    "# iterate over the list using index. \n",
    "\n",
    "for i in range(len(genre)):\n",
    "    print(\"I like\", genre[i])"
   ]
  },
  {
   "cell_type": "code",
   "execution_count": 25,
   "metadata": {},
   "outputs": [
    {
     "name": "stdout",
     "output_type": "stream",
     "text": [
      "1\n",
      "2\n",
      "3\n",
      "4\n",
      "5\n",
      "6\n"
     ]
    }
   ],
   "source": [
    "# Python Code for iterate over a list. \n",
    "\n",
    "lt = [1,2,3,4,5,6]\n",
    "\n",
    "for item in lt:\n",
    "    print(item)"
   ]
  },
  {
   "cell_type": "code",
   "execution_count": 26,
   "metadata": {},
   "outputs": [
    {
     "name": "stdout",
     "output_type": "stream",
     "text": [
      "1\n",
      "2\n",
      "3\n",
      "4\n",
      "5\n",
      "6\n",
      "7\n"
     ]
    }
   ],
   "source": [
    "thislist = [1,2,3,4,5,6,7]\n",
    "\n",
    "for x in range(0, len(thislist)):\n",
    "    print(thislist[x])"
   ]
  },
  {
   "cell_type": "code",
   "execution_count": 79,
   "metadata": {},
   "outputs": [
    {
     "name": "stdout",
     "output_type": "stream",
     "text": [
      "0 Mary\n",
      "1 had\n",
      "2 a\n",
      "3 little\n",
      "4 lamb\n"
     ]
    }
   ],
   "source": [
    "a = ['Mary', 'had', 'a', 'little', 'lamb']\n",
    "\n",
    "for i in range(len(a)):\n",
    "    print(i, a[i])"
   ]
  },
  {
   "cell_type": "markdown",
   "metadata": {},
   "source": [
    "#### Iterate Through a Tuple ()"
   ]
  },
  {
   "cell_type": "code",
   "execution_count": 13,
   "metadata": {},
   "outputs": [
    {
     "name": "stdout",
     "output_type": "stream",
     "text": [
      "I like pop\n",
      "I like rock\n",
      "I like jazz\n"
     ]
    }
   ],
   "source": [
    "# Program to iterate through a tuple using indexing. \n",
    "\n",
    "genre = ('pop', 'rock', 'jazz')\n",
    "\n",
    "# iterate over the list using index. \n",
    "\n",
    "for i in range(len(genre)):\n",
    "    print(\"I like\", genre[i])"
   ]
  },
  {
   "cell_type": "code",
   "execution_count": 37,
   "metadata": {},
   "outputs": [
    {
     "name": "stdout",
     "output_type": "stream",
     "text": [
      "I like pop\n",
      "I like rock\n",
      "I like jazz\n"
     ]
    }
   ],
   "source": [
    "genre = ('pop', 'rock', 'jazz')\n",
    "\n",
    "for i in genre:\n",
    "    print('I like', i)\n"
   ]
  },
  {
   "cell_type": "code",
   "execution_count": 34,
   "metadata": {},
   "outputs": [
    {
     "name": "stdout",
     "output_type": "stream",
     "text": [
      "0 10\n",
      "1 20\n",
      "2 30\n",
      "3 40\n"
     ]
    }
   ],
   "source": [
    "t = (10,20,30,40)\n",
    "\n",
    "for i in t:\n",
    "    print(t.index(i), i)"
   ]
  },
  {
   "cell_type": "code",
   "execution_count": 35,
   "metadata": {},
   "outputs": [
    {
     "name": "stdout",
     "output_type": "stream",
     "text": [
      "0 10\n",
      "1 20\n",
      "2 30\n",
      "3 40\n"
     ]
    }
   ],
   "source": [
    "t = (10,20,30,40)\n",
    "\n",
    "for i in range(len(t)):\n",
    "    print(i, t[i])"
   ]
  },
  {
   "cell_type": "code",
   "execution_count": 40,
   "metadata": {},
   "outputs": [
    {
     "name": "stdout",
     "output_type": "stream",
     "text": [
      "(0, 10)\n",
      "(1, 20)\n",
      "(2, 30)\n",
      "(3, 40)\n"
     ]
    }
   ],
   "source": [
    "for i in enumerate(t):\n",
    "    print (i)"
   ]
  },
  {
   "cell_type": "markdown",
   "metadata": {},
   "source": [
    "#### Iterate Through a Set {}"
   ]
  },
  {
   "cell_type": "code",
   "execution_count": 14,
   "metadata": {},
   "outputs": [
    {
     "ename": "TypeError",
     "evalue": "'set' object is not subscriptable",
     "output_type": "error",
     "traceback": [
      "\u001b[0;31m---------------------------------------------------------------------------\u001b[0m",
      "\u001b[0;31mTypeError\u001b[0m                                 Traceback (most recent call last)",
      "\u001b[0;32m<ipython-input-14-ef06657cd6a1>\u001b[0m in \u001b[0;36m<module>\u001b[0;34m\u001b[0m\n\u001b[1;32m      6\u001b[0m \u001b[0;34m\u001b[0m\u001b[0m\n\u001b[1;32m      7\u001b[0m \u001b[0;32mfor\u001b[0m \u001b[0mi\u001b[0m \u001b[0;32min\u001b[0m \u001b[0mrange\u001b[0m\u001b[0;34m(\u001b[0m\u001b[0mlen\u001b[0m\u001b[0;34m(\u001b[0m\u001b[0mgenre\u001b[0m\u001b[0;34m)\u001b[0m\u001b[0;34m)\u001b[0m\u001b[0;34m:\u001b[0m\u001b[0;34m\u001b[0m\u001b[0;34m\u001b[0m\u001b[0m\n\u001b[0;32m----> 8\u001b[0;31m     \u001b[0mprint\u001b[0m\u001b[0;34m(\u001b[0m\u001b[0;34m\"I like\"\u001b[0m\u001b[0;34m,\u001b[0m \u001b[0mgenre\u001b[0m\u001b[0;34m[\u001b[0m\u001b[0mi\u001b[0m\u001b[0;34m]\u001b[0m\u001b[0;34m)\u001b[0m\u001b[0;34m\u001b[0m\u001b[0;34m\u001b[0m\u001b[0m\n\u001b[0m",
      "\u001b[0;31mTypeError\u001b[0m: 'set' object is not subscriptable"
     ]
    }
   ],
   "source": [
    "# Program to iterate through a set using indexing. \n",
    "\n",
    "genre = {'pop', 'rock', 'jazz'}\n",
    "\n",
    "# iterate over the list using index. \n",
    "\n",
    "for i in range(len(genre)):\n",
    "    print(\"I like\", genre[i])"
   ]
  },
  {
   "cell_type": "code",
   "execution_count": 45,
   "metadata": {},
   "outputs": [
    {
     "name": "stdout",
     "output_type": "stream",
     "text": [
      "I like jazz\n",
      "I like rock\n",
      "I like pop\n"
     ]
    }
   ],
   "source": [
    "# Solution for above is, we need to conver it into list and then use it. \n",
    "\n",
    "genre = list({'pop', 'rock', 'jazz'})\n",
    "\n",
    "for i in range(len(genre)):\n",
    "    print(\"I like\", genre[i])"
   ]
  },
  {
   "cell_type": "code",
   "execution_count": 49,
   "metadata": {},
   "outputs": [
    {
     "name": "stdout",
     "output_type": "stream",
     "text": [
      "(0, 'jazz')\n",
      "(1, 'rock')\n",
      "(2, 'pop')\n"
     ]
    }
   ],
   "source": [
    "# Using enumerate type \n",
    "\n",
    "genre = {'pop', 'rock', 'jazz'}\n",
    "\n",
    "for i in enumerate(genre):\n",
    "    print(i)"
   ]
  },
  {
   "cell_type": "code",
   "execution_count": 58,
   "metadata": {},
   "outputs": [
    {
     "name": "stdout",
     "output_type": "stream",
     "text": [
      "jazz rock pop "
     ]
    }
   ],
   "source": [
    "#  Using negative index by converting to list type\n",
    "\n",
    "genre = list({'pop', 'rock', 'jazz'})\n",
    "\n",
    "for i in range(-len(genre),0):\n",
    "    print(genre[i], end=' ')"
   ]
  },
  {
   "cell_type": "code",
   "execution_count": 61,
   "metadata": {},
   "outputs": [
    {
     "name": "stdout",
     "output_type": "stream",
     "text": [
      "['n']['s']['i']['a']['l']['p']['r']['u']['o']['t']\n"
     ]
    }
   ],
   "source": [
    "set_inp = list({'t','u','t','o','r','i','a','l','s','p','o','i','n','t'})\n",
    "\n",
    "# Iterate over the set\n",
    "\n",
    "for value in range(1,len(set_inp)):\n",
    "   print(set_inp[value-1:value], end='')\n",
    "print(set_inp[-1:])"
   ]
  },
  {
   "cell_type": "code",
   "execution_count": 59,
   "metadata": {},
   "outputs": [
    {
     "name": "stdout",
     "output_type": "stream",
     "text": [
      "I like jazz\n",
      "I like rock\n",
      "I like pop\n"
     ]
    }
   ],
   "source": [
    "genre = {'pop', 'rock', 'jazz'}\n",
    "\n",
    "for i in genre:\n",
    "    print(\"I like\", i)"
   ]
  },
  {
   "cell_type": "markdown",
   "metadata": {},
   "source": [
    "#### Iterate Through a Dictionary()"
   ]
  },
  {
   "cell_type": "code",
   "execution_count": 15,
   "metadata": {},
   "outputs": [
    {
     "name": "stdout",
     "output_type": "stream",
     "text": [
      "52\n",
      "E\n",
      "126\n",
      "A\n",
      "134\n",
      "B\n",
      "188\n",
      "C\n",
      "189\n",
      "D\n"
     ]
    }
   ],
   "source": [
    "# Program to iterate through a dictionary using for loop.\n",
    "\n",
    "dictionary = {52:'E', 126:'A', 134:'B', 188:'C', 189:'D'}\n",
    "\n",
    "for key, value in dictionary.items():\n",
    "    print(key)\n",
    "    print(value)"
   ]
  },
  {
   "cell_type": "code",
   "execution_count": 18,
   "metadata": {},
   "outputs": [
    {
     "name": "stdout",
     "output_type": "stream",
     "text": [
      "102 E\n",
      "126 A\n",
      "134 B\n",
      "188 C\n",
      "189 D\n"
     ]
    }
   ],
   "source": [
    "#  Access both key and value using items()\n",
    "\n",
    "dictionary = {102:'E', 126:'A', 134:'B', 188:'C', 189:'D'}\n",
    "\n",
    "for key, value in dictionary.items():\n",
    "    print(key,value)"
   ]
  },
  {
   "cell_type": "code",
   "execution_count": 19,
   "metadata": {},
   "outputs": [
    {
     "name": "stdout",
     "output_type": "stream",
     "text": [
      "102 E\n",
      "126 A\n",
      "134 B\n",
      "188 C\n",
      "189 D\n"
     ]
    }
   ],
   "source": [
    "#  Access both key and value without using items()\n",
    "\n",
    "dictionary = {102:'E', 126:'A', 134:'B', 188:'C', 189:'D'}\n",
    "\n",
    "for key in dictionary:\n",
    "    print(key, dictionary[key])"
   ]
  },
  {
   "cell_type": "code",
   "execution_count": 24,
   "metadata": {},
   "outputs": [
    {
     "name": "stdout",
     "output_type": "stream",
     "text": [
      "102\n",
      "126\n",
      "134\n",
      "188\n",
      "189\n",
      "E\n",
      "A\n",
      "B\n",
      "C\n",
      "D\n"
     ]
    }
   ],
   "source": [
    "#  Return keys or values explicitly\n",
    "\n",
    "dictionary = {102:'E', 126:'A', 134:'B', 188:'C', 189:'D'}\n",
    "\n",
    "for key in dictionary.keys():\n",
    "    print(key)\n",
    "    \n",
    "for value in dictionary.values():\n",
    "    print(value)"
   ]
  },
  {
   "cell_type": "code",
   "execution_count": 30,
   "metadata": {},
   "outputs": [
    {
     "name": "stdout",
     "output_type": "stream",
     "text": [
      "(102, 'E')\n",
      "(126, 'A')\n",
      "(134, 'B')\n",
      "(188, 'C')\n",
      "(189, 'D')\n"
     ]
    }
   ],
   "source": [
    "dictionary = {102:'E', 126:'A', 134:'B', 188:'C', 189:'D'}\n",
    "\n",
    "for item in dictionary.items():\n",
    "    print(item)"
   ]
  },
  {
   "cell_type": "markdown",
   "metadata": {},
   "source": [
    "#### Iterate Through a String"
   ]
  },
  {
   "cell_type": "code",
   "execution_count": 62,
   "metadata": {},
   "outputs": [
    {
     "name": "stdout",
     "output_type": "stream",
     "text": [
      "H\n",
      "e\n",
      "l\n",
      "l\n",
      "o\n"
     ]
    }
   ],
   "source": [
    "for i in \"Hello\":\n",
    "    print(i)"
   ]
  },
  {
   "cell_type": "code",
   "execution_count": 63,
   "metadata": {},
   "outputs": [
    {
     "name": "stdout",
     "output_type": "stream",
     "text": [
      "Hello"
     ]
    }
   ],
   "source": [
    "for i in \"Hello\":\n",
    "    print(i, end='')"
   ]
  },
  {
   "cell_type": "code",
   "execution_count": 64,
   "metadata": {},
   "outputs": [
    {
     "name": "stdout",
     "output_type": "stream",
     "text": [
      "t\n",
      "e\n",
      "s\n",
      "t\n"
     ]
    }
   ],
   "source": [
    "word = 'test'\n",
    "\n",
    "for letter in word:\n",
    "    print(letter)"
   ]
  },
  {
   "cell_type": "code",
   "execution_count": 65,
   "metadata": {},
   "outputs": [
    {
     "name": "stdout",
     "output_type": "stream",
     "text": [
      "test"
     ]
    }
   ],
   "source": [
    "word = 'test'\n",
    "\n",
    "for letter in word:\n",
    "    print(letter, end='')"
   ]
  },
  {
   "cell_type": "code",
   "execution_count": 70,
   "metadata": {},
   "outputs": [
    {
     "name": "stdout",
     "output_type": "stream",
     "text": [
      "Mukund\n",
      "\n",
      "P\n",
      "a\n",
      "n\n",
      "d\n",
      "e\n",
      "y\n"
     ]
    }
   ],
   "source": [
    "# Using simple iteration and range to iterate over characters of a string\n",
    "\n",
    "string = 'Mukund'\n",
    "\n",
    "# Iterate over the string\n",
    "for element in string:\n",
    "    print(element, end='')\n",
    "    \n",
    "print(\"\\n\")\n",
    "\n",
    "string_1 = 'Pandey'\n",
    "\n",
    "# Iterate over index\n",
    "for element in range(0, len(string_1)):\n",
    "    print(string_1[element])"
   ]
  },
  {
   "cell_type": "code",
   "execution_count": 74,
   "metadata": {},
   "outputs": [
    {
     "name": "stdout",
     "output_type": "stream",
     "text": [
      "M\n",
      "u\n",
      "k\n",
      "u\n",
      "n\n",
      "d\n"
     ]
    }
   ],
   "source": [
    "# Using enumerate() function to iterate over characters of a string\n",
    "\n",
    "string_name = 'Mukund'\n",
    "\n",
    "for i, v in enumerate(string_name):\n",
    "\n",
    "    print(v)"
   ]
  },
  {
   "cell_type": "code",
   "execution_count": 77,
   "metadata": {},
   "outputs": [
    {
     "name": "stdout",
     "output_type": "stream",
     "text": [
      "dnukuM\n",
      "\n",
      "y\n",
      "e\n",
      "d\n",
      "n\n",
      "a\n",
      "P\n"
     ]
    }
   ],
   "source": [
    "# Iterate in reverse order\n",
    "\n",
    "string_name = 'Mukund'\n",
    "\n",
    "# slicing the string in reverse fashion \n",
    "\n",
    "for element in string_name[::-1]:\n",
    "    print(element, end='')\n",
    "    \n",
    "print(\"\\n\")\n",
    "\n",
    "string_name = 'Pandey'\n",
    "\n",
    "# Getting length of string\n",
    "\n",
    "leng = len(string_name)\n",
    "\n",
    "# Using reverse function \n",
    "\n",
    "for element in reversed(range(0,leng)):\n",
    "    print(string_name[element])"
   ]
  },
  {
   "cell_type": "markdown",
   "metadata": {},
   "source": [
    "### for loop with else\n",
    "\n",
    "- A for loop can have an optional else block as well. The else part is executed if the items in the sequence used in **for loop exhausts**.\n",
    "\n",
    "- The break keyword can be used to stop a for loop. In such cases, the else part is ignored.\n",
    "\n",
    "- Hence, a for loop's else part runs if no break occurs."
   ]
  },
  {
   "cell_type": "code",
   "execution_count": 81,
   "metadata": {},
   "outputs": [
    {
     "name": "stdout",
     "output_type": "stream",
     "text": [
      "0\n",
      "1\n",
      "5\n",
      "No items left\n"
     ]
    }
   ],
   "source": [
    "digit = [0,1,5]\n",
    "\n",
    "for i in digit:\n",
    "    print(i)\n",
    "    \n",
    "else:\n",
    "    print('No items left')"
   ]
  },
  {
   "cell_type": "markdown",
   "metadata": {},
   "source": [
    "- This for...else statement can be used with the break keyword to run the else block only when the break keyword was not executed. Let's take an example:"
   ]
  },
  {
   "cell_type": "code",
   "execution_count": 85,
   "metadata": {},
   "outputs": [
    {
     "name": "stdout",
     "output_type": "stream",
     "text": [
      "Please enter name of student you wish to know.Prateek\n",
      "90\n"
     ]
    }
   ],
   "source": [
    "# program to display student marks from record \n",
    "\n",
    "student_name = input(\"Please enter name of student you wish to know.\")\n",
    "\n",
    "marks = {'Prateek': 90, 'Shahank': 55, 'Sharv': 77}\n",
    "\n",
    "for student in marks:\n",
    "    if student == student_name:\n",
    "        print(marks[student])\n",
    "        break\n",
    "else:\n",
    "    print(\"No entry with that name found\")"
   ]
  },
  {
   "cell_type": "code",
   "execution_count": null,
   "metadata": {},
   "outputs": [],
   "source": []
  }
 ],
 "metadata": {
  "kernelspec": {
   "display_name": "Python 3",
   "language": "python",
   "name": "python3"
  },
  "language_info": {
   "codemirror_mode": {
    "name": "ipython",
    "version": 3
   },
   "file_extension": ".py",
   "mimetype": "text/x-python",
   "name": "python",
   "nbconvert_exporter": "python",
   "pygments_lexer": "ipython3",
   "version": "3.8.5"
  }
 },
 "nbformat": 4,
 "nbformat_minor": 4
}
