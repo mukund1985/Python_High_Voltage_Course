{
 "cells": [
  {
   "cell_type": "markdown",
   "metadata": {},
   "source": [
    "# Python for Loop\n",
    "\n",
    "- The for loop in Python is used to iterate over a sequence (list, tuple, string) or other iterable objects. Iterating over a sequence is called traversal."
   ]
  },
  {
   "cell_type": "code",
   "execution_count": null,
   "metadata": {},
   "outputs": [],
   "source": [
    "for val in sequence:\n",
    "    Body of for"
   ]
  },
  {
   "cell_type": "markdown",
   "metadata": {},
   "source": [
    "- Here, val is the variable that takes the value of the item inside the sequence on each iteration.\n",
    "\n",
    "- Loop continues until we reach the last item in the sequence. The body of for loop is separated from the rest of the code using indentation."
   ]
  },
  {
   "cell_type": "markdown",
   "metadata": {},
   "source": [
    "### Example:-"
   ]
  },
  {
   "cell_type": "code",
   "execution_count": 5,
   "metadata": {},
   "outputs": [
    {
     "name": "stdout",
     "output_type": "stream",
     "text": [
      "Value is:  1\n",
      "1\n",
      "Value is:  2\n",
      "3\n",
      "Value is:  3\n",
      "6\n",
      "Value is:  4\n",
      "10\n",
      "Value is:  5\n",
      "15\n",
      "Value is:  6\n",
      "21\n",
      "Value is:  7\n",
      "28\n",
      "Value is:  8\n",
      "36\n",
      "Value is:  9\n",
      "45\n",
      "Value is:  10\n",
      "55\n",
      "\n",
      "The sum is:  55\n"
     ]
    }
   ],
   "source": [
    "# Program to find the sum of all numbers stored in a list. \n",
    "\n",
    "# List of numbers = \n",
    "\n",
    "num = [1,2,3,4,5,6,7,8,9,10]\n",
    "\n",
    "# Variable to store the sum \n",
    "\n",
    "sum = 0\n",
    "\n",
    "# iterate over the list \n",
    "\n",
    "for val in num:\n",
    "    print(\"Value is: \", val)\n",
    "    sum = sum + val\n",
    "    print(sum)\n",
    "print()\n",
    "print(\"The sum is: \", sum)"
   ]
  },
  {
   "cell_type": "code",
   "execution_count": 78,
   "metadata": {},
   "outputs": [
    {
     "name": "stdout",
     "output_type": "stream",
     "text": [
      "cat 3\n",
      "windows 7\n",
      "defenstrate 11\n"
     ]
    }
   ],
   "source": [
    "words = ['cat', 'windows', 'defenstrate']\n",
    "\n",
    "for w in words:\n",
    "    print(w, len(w))"
   ]
  },
  {
   "cell_type": "markdown",
   "metadata": {},
   "source": [
    "### Range() Function\n",
    "\n",
    "- We can generate a sequence of numbers using range() function. range(10) will generate numbers from 0 to 9 (10 numbers)."
   ]
  },
  {
   "cell_type": "code",
   "execution_count": 6,
   "metadata": {},
   "outputs": [
    {
     "name": "stdout",
     "output_type": "stream",
     "text": [
      "range(0, 10)\n"
     ]
    }
   ],
   "source": [
    "print(range(10))"
   ]
  },
  {
   "cell_type": "code",
   "execution_count": 7,
   "metadata": {},
   "outputs": [
    {
     "name": "stdout",
     "output_type": "stream",
     "text": [
      "[0, 1, 2, 3, 4, 5, 6, 7, 8, 9]\n"
     ]
    }
   ],
   "source": [
    "print(list(range(10)))"
   ]
  },
  {
   "cell_type": "code",
   "execution_count": 8,
   "metadata": {},
   "outputs": [
    {
     "name": "stdout",
     "output_type": "stream",
     "text": [
      "[2, 3, 4, 5, 6]\n"
     ]
    }
   ],
   "source": [
    "print(list(range(2,7)))"
   ]
  },
  {
   "cell_type": "code",
   "execution_count": 9,
   "metadata": {},
   "outputs": [
    {
     "name": "stdout",
     "output_type": "stream",
     "text": [
      "[2, 4, 6, 8]\n"
     ]
    }
   ],
   "source": [
    "print(list(range(2,10,2)))"
   ]
  },
  {
   "cell_type": "markdown",
   "metadata": {},
   "source": [
    "### Using Range() Function in For Loop"
   ]
  },
  {
   "cell_type": "markdown",
   "metadata": {},
   "source": [
    "#### Iterate Through a list []"
   ]
  },
  {
   "cell_type": "code",
   "execution_count": 11,
   "metadata": {},
   "outputs": [
    {
     "name": "stdout",
     "output_type": "stream",
     "text": [
      "I like pop\n",
      "I like rock\n",
      "I like jazz\n"
     ]
    }
   ],
   "source": [
    "# Program to iterate through a list using indexing. \n",
    "\n",
    "genre = ['pop', 'rock', 'jazz']\n",
    "\n",
    "# iterate over the list using index. \n",
    "\n",
    "for i in range(len(genre)):\n",
    "    print(\"I like\", genre[i])"
   ]
  },
  {
   "cell_type": "code",
   "execution_count": 25,
   "metadata": {},
   "outputs": [
    {
     "name": "stdout",
     "output_type": "stream",
     "text": [
      "1\n",
      "2\n",
      "3\n",
      "4\n",
      "5\n",
      "6\n"
     ]
    }
   ],
   "source": [
    "# Python Code for iterate over a list. \n",
    "\n",
    "lt = [1,2,3,4,5,6]\n",
    "\n",
    "for item in lt:\n",
    "    print(item)"
   ]
  },
  {
   "cell_type": "code",
   "execution_count": 26,
   "metadata": {},
   "outputs": [
    {
     "name": "stdout",
     "output_type": "stream",
     "text": [
      "1\n",
      "2\n",
      "3\n",
      "4\n",
      "5\n",
      "6\n",
      "7\n"
     ]
    }
   ],
   "source": [
    "thislist = [1,2,3,4,5,6,7]\n",
    "\n",
    "for x in range(0, len(thislist)):\n",
    "    print(thislist[x])"
   ]
  },
  {
   "cell_type": "code",
   "execution_count": 79,
   "metadata": {},
   "outputs": [
    {
     "name": "stdout",
     "output_type": "stream",
     "text": [
      "0 Mary\n",
      "1 had\n",
      "2 a\n",
      "3 little\n",
      "4 lamb\n"
     ]
    }
   ],
   "source": [
    "a = ['Mary', 'had', 'a', 'little', 'lamb']\n",
    "\n",
    "for i in range(len(a)):\n",
    "    print(i, a[i])"
   ]
  },
  {
   "cell_type": "markdown",
   "metadata": {},
   "source": [
    "#### Iterate Through a Tuple ()"
   ]
  },
  {
   "cell_type": "code",
   "execution_count": 13,
   "metadata": {},
   "outputs": [
    {
     "name": "stdout",
     "output_type": "stream",
     "text": [
      "I like pop\n",
      "I like rock\n",
      "I like jazz\n"
     ]
    }
   ],
   "source": [
    "# Program to iterate through a tuple using indexing. \n",
    "\n",
    "genre = ('pop', 'rock', 'jazz')\n",
    "\n",
    "# iterate over the list using index. \n",
    "\n",
    "for i in range(len(genre)):\n",
    "    print(\"I like\", genre[i])"
   ]
  },
  {
   "cell_type": "code",
   "execution_count": 37,
   "metadata": {},
   "outputs": [
    {
     "name": "stdout",
     "output_type": "stream",
     "text": [
      "I like pop\n",
      "I like rock\n",
      "I like jazz\n"
     ]
    }
   ],
   "source": [
    "genre = ('pop', 'rock', 'jazz')\n",
    "\n",
    "for i in genre:\n",
    "    print('I like', i)\n"
   ]
  },
  {
   "cell_type": "code",
   "execution_count": 34,
   "metadata": {},
   "outputs": [
    {
     "name": "stdout",
     "output_type": "stream",
     "text": [
      "0 10\n",
      "1 20\n",
      "2 30\n",
      "3 40\n"
     ]
    }
   ],
   "source": [
    "t = (10,20,30,40)\n",
    "\n",
    "for i in t:\n",
    "    print(t.index(i), i)"
   ]
  },
  {
   "cell_type": "code",
   "execution_count": 35,
   "metadata": {},
   "outputs": [
    {
     "name": "stdout",
     "output_type": "stream",
     "text": [
      "0 10\n",
      "1 20\n",
      "2 30\n",
      "3 40\n"
     ]
    }
   ],
   "source": [
    "t = (10,20,30,40)\n",
    "\n",
    "for i in range(len(t)):\n",
    "    print(i, t[i])"
   ]
  },
  {
   "cell_type": "code",
   "execution_count": 40,
   "metadata": {},
   "outputs": [
    {
     "name": "stdout",
     "output_type": "stream",
     "text": [
      "(0, 10)\n",
      "(1, 20)\n",
      "(2, 30)\n",
      "(3, 40)\n"
     ]
    }
   ],
   "source": [
    "for i in enumerate(t):\n",
    "    print (i)"
   ]
  },
  {
   "cell_type": "markdown",
   "metadata": {},
   "source": [
    "#### Iterate Through a Set {}"
   ]
  },
  {
   "cell_type": "code",
   "execution_count": 14,
   "metadata": {},
   "outputs": [
    {
     "ename": "TypeError",
     "evalue": "'set' object is not subscriptable",
     "output_type": "error",
     "traceback": [
      "\u001b[0;31m---------------------------------------------------------------------------\u001b[0m",
      "\u001b[0;31mTypeError\u001b[0m                                 Traceback (most recent call last)",
      "\u001b[0;32m<ipython-input-14-ef06657cd6a1>\u001b[0m in \u001b[0;36m<module>\u001b[0;34m\u001b[0m\n\u001b[1;32m      6\u001b[0m \u001b[0;34m\u001b[0m\u001b[0m\n\u001b[1;32m      7\u001b[0m \u001b[0;32mfor\u001b[0m \u001b[0mi\u001b[0m \u001b[0;32min\u001b[0m \u001b[0mrange\u001b[0m\u001b[0;34m(\u001b[0m\u001b[0mlen\u001b[0m\u001b[0;34m(\u001b[0m\u001b[0mgenre\u001b[0m\u001b[0;34m)\u001b[0m\u001b[0;34m)\u001b[0m\u001b[0;34m:\u001b[0m\u001b[0;34m\u001b[0m\u001b[0;34m\u001b[0m\u001b[0m\n\u001b[0;32m----> 8\u001b[0;31m     \u001b[0mprint\u001b[0m\u001b[0;34m(\u001b[0m\u001b[0;34m\"I like\"\u001b[0m\u001b[0;34m,\u001b[0m \u001b[0mgenre\u001b[0m\u001b[0;34m[\u001b[0m\u001b[0mi\u001b[0m\u001b[0;34m]\u001b[0m\u001b[0;34m)\u001b[0m\u001b[0;34m\u001b[0m\u001b[0;34m\u001b[0m\u001b[0m\n\u001b[0m",
      "\u001b[0;31mTypeError\u001b[0m: 'set' object is not subscriptable"
     ]
    }
   ],
   "source": [
    "# Program to iterate through a set using indexing. \n",
    "\n",
    "genre = {'pop', 'rock', 'jazz'}\n",
    "\n",
    "# iterate over the list using index. \n",
    "\n",
    "for i in range(len(genre)):\n",
    "    print(\"I like\", genre[i])"
   ]
  },
  {
   "cell_type": "code",
   "execution_count": 45,
   "metadata": {},
   "outputs": [
    {
     "name": "stdout",
     "output_type": "stream",
     "text": [
      "I like jazz\n",
      "I like rock\n",
      "I like pop\n"
     ]
    }
   ],
   "source": [
    "# Solution for above is, we need to conver it into list and then use it. \n",
    "\n",
    "genre = list({'pop', 'rock', 'jazz'})\n",
    "\n",
    "for i in range(len(genre)):\n",
    "    print(\"I like\", genre[i])"
   ]
  },
  {
   "cell_type": "code",
   "execution_count": 49,
   "metadata": {},
   "outputs": [
    {
     "name": "stdout",
     "output_type": "stream",
     "text": [
      "(0, 'jazz')\n",
      "(1, 'rock')\n",
      "(2, 'pop')\n"
     ]
    }
   ],
   "source": [
    "# Using enumerate type \n",
    "\n",
    "genre = {'pop', 'rock', 'jazz'}\n",
    "\n",
    "for i in enumerate(genre):\n",
    "    print(i)"
   ]
  },
  {
   "cell_type": "code",
   "execution_count": 58,
   "metadata": {},
   "outputs": [
    {
     "name": "stdout",
     "output_type": "stream",
     "text": [
      "jazz rock pop "
     ]
    }
   ],
   "source": [
    "#  Using negative index by converting to list type\n",
    "\n",
    "genre = list({'pop', 'rock', 'jazz'})\n",
    "\n",
    "for i in range(-len(genre),0):\n",
    "    print(genre[i], end=' ')"
   ]
  },
  {
   "cell_type": "code",
   "execution_count": 61,
   "metadata": {},
   "outputs": [
    {
     "name": "stdout",
     "output_type": "stream",
     "text": [
      "['n']['s']['i']['a']['l']['p']['r']['u']['o']['t']\n"
     ]
    }
   ],
   "source": [
    "set_inp = list({'t','u','t','o','r','i','a','l','s','p','o','i','n','t'})\n",
    "\n",
    "# Iterate over the set\n",
    "\n",
    "for value in range(1,len(set_inp)):\n",
    "   print(set_inp[value-1:value], end='')\n",
    "print(set_inp[-1:])"
   ]
  },
  {
   "cell_type": "code",
   "execution_count": 59,
   "metadata": {},
   "outputs": [
    {
     "name": "stdout",
     "output_type": "stream",
     "text": [
      "I like jazz\n",
      "I like rock\n",
      "I like pop\n"
     ]
    }
   ],
   "source": [
    "genre = {'pop', 'rock', 'jazz'}\n",
    "\n",
    "for i in genre:\n",
    "    print(\"I like\", i)"
   ]
  },
  {
   "cell_type": "markdown",
   "metadata": {},
   "source": [
    "#### Iterate Through a Dictionary()"
   ]
  },
  {
   "cell_type": "code",
   "execution_count": 15,
   "metadata": {},
   "outputs": [
    {
     "name": "stdout",
     "output_type": "stream",
     "text": [
      "52\n",
      "E\n",
      "126\n",
      "A\n",
      "134\n",
      "B\n",
      "188\n",
      "C\n",
      "189\n",
      "D\n"
     ]
    }
   ],
   "source": [
    "# Program to iterate through a dictionary using for loop.\n",
    "\n",
    "dictionary = {52:'E', 126:'A', 134:'B', 188:'C', 189:'D'}\n",
    "\n",
    "for key, value in dictionary.items():\n",
    "    print(key)\n",
    "    print(value)"
   ]
  },
  {
   "cell_type": "code",
   "execution_count": 18,
   "metadata": {},
   "outputs": [
    {
     "name": "stdout",
     "output_type": "stream",
     "text": [
      "102 E\n",
      "126 A\n",
      "134 B\n",
      "188 C\n",
      "189 D\n"
     ]
    }
   ],
   "source": [
    "#  Access both key and value using items()\n",
    "\n",
    "dictionary = {102:'E', 126:'A', 134:'B', 188:'C', 189:'D'}\n",
    "\n",
    "for key, value in dictionary.items():\n",
    "    print(key,value)"
   ]
  },
  {
   "cell_type": "code",
   "execution_count": 19,
   "metadata": {},
   "outputs": [
    {
     "name": "stdout",
     "output_type": "stream",
     "text": [
      "102 E\n",
      "126 A\n",
      "134 B\n",
      "188 C\n",
      "189 D\n"
     ]
    }
   ],
   "source": [
    "#  Access both key and value without using items()\n",
    "\n",
    "dictionary = {102:'E', 126:'A', 134:'B', 188:'C', 189:'D'}\n",
    "\n",
    "for key in dictionary:\n",
    "    print(key, dictionary[key])"
   ]
  },
  {
   "cell_type": "code",
   "execution_count": 24,
   "metadata": {},
   "outputs": [
    {
     "name": "stdout",
     "output_type": "stream",
     "text": [
      "102\n",
      "126\n",
      "134\n",
      "188\n",
      "189\n",
      "E\n",
      "A\n",
      "B\n",
      "C\n",
      "D\n"
     ]
    }
   ],
   "source": [
    "#  Return keys or values explicitly\n",
    "\n",
    "dictionary = {102:'E', 126:'A', 134:'B', 188:'C', 189:'D'}\n",
    "\n",
    "for key in dictionary.keys():\n",
    "    print(key)\n",
    "    \n",
    "for value in dictionary.values():\n",
    "    print(value)"
   ]
  },
  {
   "cell_type": "code",
   "execution_count": 30,
   "metadata": {},
   "outputs": [
    {
     "name": "stdout",
     "output_type": "stream",
     "text": [
      "(102, 'E')\n",
      "(126, 'A')\n",
      "(134, 'B')\n",
      "(188, 'C')\n",
      "(189, 'D')\n"
     ]
    }
   ],
   "source": [
    "dictionary = {102:'E', 126:'A', 134:'B', 188:'C', 189:'D'}\n",
    "\n",
    "for item in dictionary.items():\n",
    "    print(item)"
   ]
  },
  {
   "cell_type": "markdown",
   "metadata": {},
   "source": [
    "#### Iterate Through a String"
   ]
  },
  {
   "cell_type": "code",
   "execution_count": 62,
   "metadata": {},
   "outputs": [
    {
     "name": "stdout",
     "output_type": "stream",
     "text": [
      "H\n",
      "e\n",
      "l\n",
      "l\n",
      "o\n"
     ]
    }
   ],
   "source": [
    "for i in \"Hello\":\n",
    "    print(i)"
   ]
  },
  {
   "cell_type": "code",
   "execution_count": 63,
   "metadata": {},
   "outputs": [
    {
     "name": "stdout",
     "output_type": "stream",
     "text": [
      "Hello"
     ]
    }
   ],
   "source": [
    "for i in \"Hello\":\n",
    "    print(i, end='')"
   ]
  },
  {
   "cell_type": "code",
   "execution_count": 64,
   "metadata": {},
   "outputs": [
    {
     "name": "stdout",
     "output_type": "stream",
     "text": [
      "t\n",
      "e\n",
      "s\n",
      "t\n"
     ]
    }
   ],
   "source": [
    "word = 'test'\n",
    "\n",
    "for letter in word:\n",
    "    print(letter)"
   ]
  },
  {
   "cell_type": "code",
   "execution_count": 65,
   "metadata": {},
   "outputs": [
    {
     "name": "stdout",
     "output_type": "stream",
     "text": [
      "test"
     ]
    }
   ],
   "source": [
    "word = 'test'\n",
    "\n",
    "for letter in word:\n",
    "    print(letter, end='')"
   ]
  },
  {
   "cell_type": "code",
   "execution_count": 70,
   "metadata": {},
   "outputs": [
    {
     "name": "stdout",
     "output_type": "stream",
     "text": [
      "Mukund\n",
      "\n",
      "P\n",
      "a\n",
      "n\n",
      "d\n",
      "e\n",
      "y\n"
     ]
    }
   ],
   "source": [
    "# Using simple iteration and range to iterate over characters of a string\n",
    "\n",
    "string = 'Mukund'\n",
    "\n",
    "# Iterate over the string\n",
    "for element in string:\n",
    "    print(element, end='')\n",
    "    \n",
    "print(\"\\n\")\n",
    "\n",
    "string_1 = 'Pandey'\n",
    "\n",
    "# Iterate over index\n",
    "for element in range(0, len(string_1)):\n",
    "    print(string_1[element])"
   ]
  },
  {
   "cell_type": "code",
   "execution_count": 74,
   "metadata": {},
   "outputs": [
    {
     "name": "stdout",
     "output_type": "stream",
     "text": [
      "M\n",
      "u\n",
      "k\n",
      "u\n",
      "n\n",
      "d\n"
     ]
    }
   ],
   "source": [
    "# Using enumerate() function to iterate over characters of a string\n",
    "\n",
    "string_name = 'Mukund'\n",
    "\n",
    "for i, v in enumerate(string_name):\n",
    "\n",
    "    print(v)"
   ]
  },
  {
   "cell_type": "code",
   "execution_count": 77,
   "metadata": {},
   "outputs": [
    {
     "name": "stdout",
     "output_type": "stream",
     "text": [
      "dnukuM\n",
      "\n",
      "y\n",
      "e\n",
      "d\n",
      "n\n",
      "a\n",
      "P\n"
     ]
    }
   ],
   "source": [
    "# Iterate in reverse order\n",
    "\n",
    "string_name = 'Mukund'\n",
    "\n",
    "# slicing the string in reverse fashion \n",
    "\n",
    "for element in string_name[::-1]:\n",
    "    print(element, end='')\n",
    "    \n",
    "print(\"\\n\")\n",
    "\n",
    "string_name = 'Pandey'\n",
    "\n",
    "# Getting length of string\n",
    "\n",
    "leng = len(string_name)\n",
    "\n",
    "# Using reverse function \n",
    "\n",
    "for element in reversed(range(0,leng)):\n",
    "    print(string_name[element])"
   ]
  },
  {
   "cell_type": "markdown",
   "metadata": {},
   "source": [
    "### for loop with else\n",
    "\n",
    "- A for loop can have an optional else block as well. The else part is executed if the items in the sequence used in **for loop exhausts**.\n",
    "\n",
    "- The break keyword can be used to stop a for loop. In such cases, the else part is ignored.\n",
    "\n",
    "- Hence, a for loop's else part runs if no break occurs."
   ]
  },
  {
   "cell_type": "code",
   "execution_count": 81,
   "metadata": {},
   "outputs": [
    {
     "name": "stdout",
     "output_type": "stream",
     "text": [
      "0\n",
      "1\n",
      "5\n",
      "No items left\n"
     ]
    }
   ],
   "source": [
    "digit = [0,1,5]\n",
    "\n",
    "for i in digit:\n",
    "    print(i)\n",
    "    \n",
    "else:\n",
    "    print('No items left')"
   ]
  },
  {
   "cell_type": "markdown",
   "metadata": {},
   "source": [
    "- This for...else statement can be used with the break keyword to run the else block only when the break keyword was not executed. Let's take an example:"
   ]
  },
  {
   "cell_type": "code",
   "execution_count": 87,
   "metadata": {},
   "outputs": [
    {
     "name": "stdout",
     "output_type": "stream",
     "text": [
      "Please enter name of student you wish to know.dsds\n",
      "No entry with that name found\n"
     ]
    }
   ],
   "source": [
    "# program to display student marks from record \n",
    "\n",
    "student_name = input(\"Please enter name of student you wish to know: \")\n",
    "\n",
    "marks = {'Prateek': 90, 'Shahank': 55, 'Sharv': 77}\n",
    "\n",
    "for student in marks:\n",
    "    if student == student_name:\n",
    "        print(marks[student])\n",
    "        break\n",
    "else:\n",
    "    print(\"No entry with that name found\")"
   ]
  },
  {
   "cell_type": "markdown",
   "metadata": {},
   "source": [
    "**The else block just after for/while is executed only when the loop is NOT terminated by a break statement.**"
   ]
  },
  {
   "cell_type": "code",
   "execution_count": 86,
   "metadata": {},
   "outputs": [
    {
     "name": "stdout",
     "output_type": "stream",
     "text": [
      "1\n",
      "2\n",
      "3\n",
      "No Break\n"
     ]
    }
   ],
   "source": [
    "for i in range(1,4):\n",
    "    print(i)\n",
    "    \n",
    "else: # Executed Because no break in for\n",
    "    print(\"No Break\")"
   ]
  },
  {
   "cell_type": "code",
   "execution_count": 94,
   "metadata": {},
   "outputs": [
    {
     "name": "stdout",
     "output_type": "stream",
     "text": [
      "1\n"
     ]
    }
   ],
   "source": [
    "for i in range(1,4):\n",
    "    print(i)\n",
    "    break\n",
    "    \n",
    "else: # Will not Execute Because break \n",
    "    print(\"No Break\")"
   ]
  },
  {
   "cell_type": "markdown",
   "metadata": {},
   "source": [
    "- Such type of else is useful only if there is an if condition present inside the loop which somehow depends on the loop variable."
   ]
  },
  {
   "cell_type": "code",
   "execution_count": 99,
   "metadata": {},
   "outputs": [
    {
     "name": "stdout",
     "output_type": "stream",
     "text": [
      "For List 1:\n",
      "list contains an even number\n",
      " \n",
      "For List 2:\n",
      "list does not contain an even number\n"
     ]
    }
   ],
   "source": [
    "# Program to check if array consist of even number \n",
    "\n",
    "def contains_even_number(l):\n",
    "    for ele in l:\n",
    "        if ele % 2 == 0:\n",
    "            print (\"list contains an even number\")\n",
    "            break\n",
    "  \n",
    "    # This else executes only if break is NEVER\n",
    "    # reached and loop terminated after all iterations.\n",
    "    else:     \n",
    "        print (\"list does not contain an even number\")\n",
    "  \n",
    "# Driver code\n",
    "\n",
    "print (\"For List 1:\")\n",
    "contains_even_number([1, 9, 8])\n",
    "print (\" \\nFor List 2:\")\n",
    "contains_even_number([1, 3, 5])"
   ]
  },
  {
   "cell_type": "markdown",
   "metadata": {},
   "source": [
    "- In the above example, the else statement will only be executed if no element of the array is even, i.e. if statement has not been executed for any iteration. Therefore for the array [1, 9, 8] the if is executed in third iteration of the loop and hence the else present after the for loop is ignored. In case of array [1, 3, 5] the if is not executed for any iteration and hence the else after the loop is executed."
   ]
  },
  {
   "cell_type": "markdown",
   "metadata": {},
   "source": [
    "### Nested for loop \n",
    "\n",
    "- A nested loop is a loop inside a loop.\n",
    "\n",
    "- The \"inner loop\" will be executed one time for each iteration of the \"outer loop\".\n",
    "\n",
    "- The program first encounters the outer loop, executing its first iteration. \n",
    "\n",
    "- This first iteration triggers the inner, nested loop, which then runs to completion. \n",
    "\n",
    "- Then the program returns back to the top of the outer loop, completing the second iteration and again triggering the nested loop. \n",
    "\n",
    "- Again, the nested loop runs to completion, and the program returns back to the top of the outer loop until the sequence is complete or a break or other statement disrupts the process.\n",
    "\n",
    "**Nested loops are useful when for each pass through the outer loop, you need to repeat some action on the data in the outer loop. For example, you read a file line by line and for each line you must count how many times the word “the” is found. The outer loop would read the lines and the inner loop would search each line for “the” by looping through the words in the line.**"
   ]
  },
  {
   "cell_type": "code",
   "execution_count": null,
   "metadata": {},
   "outputs": [],
   "source": [
    "for [first iterating variable] in [outer loop]: # Outer loop\n",
    "    [do something]  # Optional\n",
    "    for [second iterating variable] in [nested loop]:   # Nested loop\n",
    "        [do something]"
   ]
  },
  {
   "cell_type": "code",
   "execution_count": 101,
   "metadata": {},
   "outputs": [
    {
     "name": "stdout",
     "output_type": "stream",
     "text": [
      "red apple\n",
      "red banana\n",
      "red cherry\n",
      "big apple\n",
      "big banana\n",
      "big cherry\n",
      "tasty apple\n",
      "tasty banana\n",
      "tasty cherry\n"
     ]
    }
   ],
   "source": [
    "adj = [\"red\", \"big\", \"tasty\"]\n",
    "\n",
    "fruits = [\"apple\", \"banana\", \"cherry\"]\n",
    "\n",
    "for x in adj:\n",
    "    for y in fruits:\n",
    "        print(x,y)"
   ]
  },
  {
   "cell_type": "code",
   "execution_count": 107,
   "metadata": {},
   "outputs": [
    {
     "name": "stdout",
     "output_type": "stream",
     "text": [
      "1\n",
      "a\n",
      "b\n",
      "c\n",
      "2\n",
      "a\n",
      "b\n",
      "c\n",
      "3\n",
      "a\n",
      "b\n",
      "c\n"
     ]
    }
   ],
   "source": [
    "num_list = [1,2,3]\n",
    "alpha_list = ['a','b','c']\n",
    "\n",
    "for number in num_list:\n",
    "    print(number)\n",
    "    for letter in alpha_list:\n",
    "        print(letter)"
   ]
  },
  {
   "cell_type": "code",
   "execution_count": 108,
   "metadata": {},
   "outputs": [
    {
     "name": "stdout",
     "output_type": "stream",
     "text": [
      "* \n",
      "* * \n",
      "* * * \n",
      "* * * * \n",
      "* * * * * \n"
     ]
    }
   ],
   "source": [
    "for i in range(1,6):\n",
    "    for j in range(i):\n",
    "        print(\"*\", end=\" \")\n",
    "    print()"
   ]
  },
  {
   "cell_type": "markdown",
   "metadata": {},
   "source": [
    "#### Excercise"
   ]
  },
  {
   "cell_type": "markdown",
   "metadata": {},
   "source": [
    "**Print all elements of a list using for loop.**"
   ]
  },
  {
   "cell_type": "code",
   "execution_count": 110,
   "metadata": {},
   "outputs": [
    {
     "name": "stdout",
     "output_type": "stream",
     "text": [
      "1\n",
      "2\n",
      "3\n",
      "4\n",
      "5\n"
     ]
    }
   ],
   "source": [
    "ls = [1,2,3,4,5]\n",
    "\n",
    "for i in ls:\n",
    "    print(i)"
   ]
  },
  {
   "cell_type": "markdown",
   "metadata": {},
   "source": [
    "**Take inputs from user to make a list. Again take one input from user and search it in the list and delete that element, if found. Iterate over list using for loop.**"
   ]
  },
  {
   "cell_type": "code",
   "execution_count": 32,
   "metadata": {},
   "outputs": [
    {
     "name": "stdout",
     "output_type": "stream",
     "text": [
      "Enter the size of list: 3\n",
      "\n",
      "Enter elements of list: 1\n",
      "Enter elements of list: 2\n",
      "Enter elements of list: 3\n",
      "\n",
      "Your original list: [1, 2, 3]\n",
      "\n",
      "Please enter a number you want to delete: 2\n",
      "we will delete 2\n",
      "\n",
      "Your number 2 is deleted from list and new list is [1, 3]\n"
     ]
    }
   ],
   "source": [
    "a = []\n",
    "s = int(input(\"Enter the size of list: \"))\n",
    "\n",
    "print()\n",
    "\n",
    "for i in range(0,s):\n",
    "    ele = int(input(\"Enter elements of list: \"))\n",
    "    a.append(ele)\n",
    "\n",
    "print()\n",
    "print(\"Your original list:\",a)\n",
    "print()\n",
    "d = int(input(\"Please enter a number you want to delete: \"))\n",
    "\n",
    "if d in a:\n",
    "    print(\"we will delete\", d)\n",
    "    print()\n",
    "    a.remove(d)\n",
    "    print(\"Your number {} is deleted from list and new list is {}\" .format(d,a))\n",
    "    \n",
    "else:\n",
    "    print(\"Number not in list.\")"
   ]
  },
  {
   "cell_type": "markdown",
   "metadata": {},
   "source": [
    "**Print multiplication table of 14 from a list in which multiplication table of 12 is stored.**"
   ]
  },
  {
   "cell_type": "code",
   "execution_count": 76,
   "metadata": {},
   "outputs": [
    {
     "name": "stdout",
     "output_type": "stream",
     "text": [
      "Multiplication table of 12\n",
      "\n",
      "12 * 1 = 12\n",
      "12 * 2 = 24\n",
      "12 * 3 = 36\n",
      "12 * 4 = 48\n",
      "12 * 5 = 60\n",
      "12 * 6 = 72\n",
      "12 * 7 = 84\n",
      "12 * 8 = 96\n",
      "12 * 9 = 108\n",
      "12 * 10 = 120\n",
      "\n",
      "Multiplication table of 12: [12, 24, 36, 48, 60, 72, 84, 96, 108, 120]\n",
      "\n",
      "Multiplication table of 14: [14, 28, 42, 56, 70, 84, 98, 112, 126, 140]\n"
     ]
    }
   ],
   "source": [
    "print(\"Multiplication table of 12\")\n",
    "print()\n",
    "a = []\n",
    "for i in range(1,11):\n",
    "    print('12 *', i, \"=\", 12*i)\n",
    "    a.append(12*i)\n",
    "print()\n",
    "print(\"Multiplication table of 12:\", a)\n",
    "\n",
    "print()\n",
    "\n",
    "b = []\n",
    "for i in range(1,11):\n",
    "    c = (12*(i)) + i*2\n",
    "    b.append(c)\n",
    "print(\"Multiplication table of 14:\", b)\n",
    "\n",
    "    \n",
    "    \n"
   ]
  },
  {
   "cell_type": "markdown",
   "metadata": {},
   "source": [
    "**You are given with a list of integer elements. Make a new list which will store square of elements of previous list.**"
   ]
  },
  {
   "cell_type": "code",
   "execution_count": 82,
   "metadata": {},
   "outputs": [
    {
     "name": "stdout",
     "output_type": "stream",
     "text": [
      "Original list is:  [2, 3, 4, 5, 6]\n",
      "\n",
      "Square root of original list : [4, 9, 16, 25, 36]\n"
     ]
    }
   ],
   "source": [
    "a = [2,3,4,5,6]\n",
    "\n",
    "b = []\n",
    "\n",
    "for i in range(len(a)):\n",
    "    #c = a[i] * a[i]\n",
    "    b.append(a[i] * a[i])\n",
    "    \n",
    "print(\"Original list is: \", a)\n",
    "print()\n",
    "print(\"Square root of original list :\", b)\n",
    "    \n",
    "\n"
   ]
  },
  {
   "cell_type": "markdown",
   "metadata": {},
   "source": [
    "**Using range(1,101), make two list, one containing all even numbers and other containing all odd numbers.**"
   ]
  },
  {
   "cell_type": "code",
   "execution_count": 1,
   "metadata": {},
   "outputs": [
    {
     "name": "stdout",
     "output_type": "stream",
     "text": [
      "[1, 3, 5, 7, 9, 11, 13, 15, 17, 19, 21, 23, 25, 27, 29, 31, 33, 35, 37, 39, 41, 43, 45, 47, 49, 51, 53, 55, 57, 59, 61, 63, 65, 67, 69, 71, 73, 75, 77, 79, 81, 83, 85, 87, 89, 91, 93, 95, 97, 99]\n",
      "\n",
      "[0, 2, 4, 6, 8, 10, 12, 14, 16, 18, 20, 22, 24, 26, 28, 30, 32, 34, 36, 38, 40, 42, 44, 46, 48, 50, 52, 54, 56, 58, 60, 62, 64, 66, 68, 70, 72, 74, 76, 78, 80, 82, 84, 86, 88, 90, 92, 94, 96, 98, 100]\n"
     ]
    }
   ],
   "source": [
    "even = []\n",
    "odd = []\n",
    "\n",
    "for i in range(1,101,2):\n",
    "    odd.append(i)\n",
    "print(odd, end=\"\")\n",
    "\n",
    "print(\"\\n\")\n",
    "\n",
    "for j in range(0,101,2):\n",
    "    even.append(j)\n",
    "print(even)"
   ]
  },
  {
   "cell_type": "markdown",
   "metadata": {},
   "source": [
    "**From the two list obtained in previous question, make new lists, containing only numbers which are divisible by 4, 6, 8, 10, 3, 5, 7 and 9 in separate lists.**"
   ]
  },
  {
   "cell_type": "code",
   "execution_count": 12,
   "metadata": {
    "scrolled": true
   },
   "outputs": [
    {
     "name": "stdout",
     "output_type": "stream",
     "text": [
      "Before divisible even+odd list:  [0, 2, 4, 6, 8, 10, 12, 14, 16, 18, 20, 22, 24, 26, 28, 30, 32, 34, 36, 38, 40, 42, 44, 46, 48, 50, 52, 54, 56, 58, 60, 62, 64, 66, 68, 70, 72, 74, 76, 78, 80, 82, 84, 86, 88, 90, 92, 94, 96, 98, 100, 1, 3, 5, 7, 9, 11, 13, 15, 17, 19, 21, 23, 25, 27, 29, 31, 33, 35, 37, 39, 41, 43, 45, 47, 49, 51, 53, 55, 57, 59, 61, 63, 65, 67, 69, 71, 73, 75, 77, 79, 81, 83, 85, 87, 89, 91, 93, 95, 97, 99]\n",
      "\n",
      "\n",
      "After divisible by list provided:  [0, 4, 6, 8, 10, 12, 14, 16, 18, 20, 24, 28, 30, 32, 36, 40, 42, 44, 48, 50, 52, 54, 56, 60, 64, 66, 68, 70, 72, 76, 78, 80, 84, 88, 90, 92, 96, 98, 100, 3, 5, 7, 9, 15, 21, 25, 27, 33, 35, 39, 45, 49, 51, 55, 57, 63, 65, 69, 75, 77, 81, 85, 87, 91, 93, 95, 99]\n"
     ]
    }
   ],
   "source": [
    "new_list = even + odd\n",
    "\n",
    "print(\"Before divisible even+odd list: \", new_list)\n",
    "\n",
    "div = [4, 6, 8, 10, 3, 5, 7, 9]\n",
    "\n",
    "final_list = []\n",
    "\n",
    "for i in new_list:\n",
    "    for j in range(len(div)):\n",
    "        if i % div[j] == 0:\n",
    "            if i in final_list:\n",
    "                None\n",
    "            else:\n",
    "                final_list.append(i)\n",
    "            \n",
    "    \n",
    "print(\"\\n\")\n",
    "        \n",
    "print(\"After divisible by list provided: \", final_list)\n",
    "        \n",
    "        "
   ]
  },
  {
   "cell_type": "code",
   "execution_count": null,
   "metadata": {},
   "outputs": [],
   "source": [
    "  # This is just reference to above code - how it was designed.  \n",
    "    \n",
    "    if i % 4 == 0:\n",
    "        if i in final_list:\n",
    "            None\n",
    "        else:\n",
    "            final_list.append(i)\n",
    "        \n",
    "    "
   ]
  },
  {
   "cell_type": "markdown",
   "metadata": {},
   "source": [
    "**From a list containing ints, strings and floats, make three lists to store them separately.**"
   ]
  },
  {
   "cell_type": "code",
   "execution_count": 29,
   "metadata": {},
   "outputs": [
    {
     "name": "stdout",
     "output_type": "stream",
     "text": [
      "[4, 5, 6, 7]\n",
      "['Mukund', 'Priyanka', 'Suhani']\n",
      "[4.3, 2.3, 5.6]\n"
     ]
    }
   ],
   "source": [
    "all_list = [4,5,6,7,\"Mukund\", \"Priyanka\", \"Suhani\", 4.3,2.3,5.6]\n",
    "\n",
    "int_list = []\n",
    "string_list = []\n",
    "float_list = []\n",
    "\n",
    "for i in all_list:\n",
    "    if type(i) == int:\n",
    "        int_list.append(i)\n",
    "        \n",
    "for i in all_list:\n",
    "    if type(i) == str:\n",
    "        string_list.append(i)\n",
    "        \n",
    "for i in all_list:\n",
    "    if type(i) == float:\n",
    "        float_list.append(i)\n",
    "        \n",
    "        \n",
    "print(int_list)\n",
    "print(string_list)\n",
    "print(float_list)"
   ]
  },
  {
   "cell_type": "markdown",
   "metadata": {},
   "source": [
    "**Using range(1,101), make a list containing only prime numbers.**"
   ]
  },
  {
   "cell_type": "code",
   "execution_count": 42,
   "metadata": {},
   "outputs": [
    {
     "name": "stdout",
     "output_type": "stream",
     "text": [
      "Please enter number between 1,101: 55\n",
      "55 is not a prime number\n"
     ]
    }
   ],
   "source": [
    "num = int(input(\"Please enter number between 1,101: \"))\n",
    "\n",
    "# define a flag variable\n",
    "\n",
    "flag = False\n",
    "\n",
    "# prime numbers are greater than 1\n",
    "\n",
    "if num > 1:\n",
    "    # Check for factors\n",
    "    for i in range(2,num):\n",
    "        if(num % i )== 0:\n",
    "            # if factor is found, set flag to true\n",
    "            flag = True\n",
    "            #break out of loop\n",
    "            break\n",
    "            \n",
    "# Check if Flag is true\n",
    "\n",
    "if flag:\n",
    "    print(num, \"is not a prime number\")\n",
    "    \n",
    "else:\n",
    "    print(num, \"is a prime number\")"
   ]
  },
  {
   "cell_type": "markdown",
   "metadata": {},
   "source": [
    "**Write a program to print first 10 even numbers in reverse order.**"
   ]
  },
  {
   "cell_type": "code",
   "execution_count": 60,
   "metadata": {},
   "outputs": [
    {
     "name": "stdout",
     "output_type": "stream",
     "text": [
      "Before reverse order: [0, 2, 4, 6, 8, 10]\n",
      "\n",
      "\n",
      "After reverse order: [10, 8, 6, 4, 2, 0]\n"
     ]
    }
   ],
   "source": [
    "rev = []\n",
    "for i in range(0,11,2):\n",
    "    rev.append(i)\n",
    "print(\"Before reverse order:\", rev)\n",
    "\n",
    "reverse = rev[::-1]\n",
    "\n",
    "print(\"\\n\")\n",
    "\n",
    "print(\"After reverse order:\",reverse)"
   ]
  },
  {
   "cell_type": "markdown",
   "metadata": {},
   "source": [
    "**Write a program to print table of a number accepted from user.**"
   ]
  },
  {
   "cell_type": "code",
   "execution_count": 66,
   "metadata": {},
   "outputs": [
    {
     "name": "stdout",
     "output_type": "stream",
     "text": [
      "Please enter number of table you want to create: 23\n",
      "\n",
      "23 * 1 = 23\n",
      "23 * 2 = 46\n",
      "23 * 3 = 69\n",
      "23 * 4 = 92\n",
      "23 * 5 = 115\n",
      "23 * 6 = 138\n",
      "23 * 7 = 161\n",
      "23 * 8 = 184\n",
      "23 * 9 = 207\n",
      "23 * 10 = 230\n"
     ]
    }
   ],
   "source": [
    "num = int(input(\"Please enter number of table you want to create: \"))\n",
    "print()\n",
    "for i in range(1,11):\n",
    "    print(num, '*', i, \"=\", num*i)"
   ]
  },
  {
   "cell_type": "markdown",
   "metadata": {},
   "source": [
    "**Write a program to find the sum of the digits of a number accepted from user**"
   ]
  },
  {
   "cell_type": "code",
   "execution_count": 108,
   "metadata": {},
   "outputs": [
    {
     "name": "stdout",
     "output_type": "stream",
     "text": [
      "Please enter digits to be summed: 12121213425323463232122\n",
      "Sum of digits: 57\n"
     ]
    }
   ],
   "source": [
    "num = input(\"Please enter digits to be summed: \")\n",
    "\n",
    "sum = 0\n",
    "for i in num:\n",
    "    sum = sum + int(i)\n",
    "    \n",
    "print(\"Sum of digits:\", sum)"
   ]
  },
  {
   "cell_type": "markdown",
   "metadata": {},
   "source": [
    "**Write a program to display sum of odd numbers and even numbers that fall between 12 and 37(including both numbers)**"
   ]
  },
  {
   "cell_type": "code",
   "execution_count": null,
   "metadata": {},
   "outputs": [],
   "source": []
  },
  {
   "cell_type": "markdown",
   "metadata": {},
   "source": [
    "**Write a program to display all the numbers which are divisible by 11 but not by 2 between 100 and 500.**"
   ]
  },
  {
   "cell_type": "code",
   "execution_count": null,
   "metadata": {},
   "outputs": [],
   "source": []
  },
  {
   "cell_type": "markdown",
   "metadata": {},
   "source": [
    "**Write a program to accept decimal number and display its binary number.**"
   ]
  },
  {
   "cell_type": "code",
   "execution_count": null,
   "metadata": {},
   "outputs": [],
   "source": []
  },
  {
   "cell_type": "markdown",
   "metadata": {},
   "source": [
    "**Accept a number and check whether it is palindrome or not.**"
   ]
  },
  {
   "cell_type": "code",
   "execution_count": null,
   "metadata": {},
   "outputs": [],
   "source": []
  },
  {
   "cell_type": "markdown",
   "metadata": {},
   "source": [
    "**Write a for loop which print \"Hello!, \" plus each name in the list. i.e.: \"Hello!, Sam\"**"
   ]
  },
  {
   "cell_type": "code",
   "execution_count": null,
   "metadata": {},
   "outputs": [],
   "source": []
  },
  {
   "cell_type": "markdown",
   "metadata": {},
   "source": [
    "**Using a for loop and .append() method append each item with a Dr. prefix to the lst.**"
   ]
  },
  {
   "cell_type": "code",
   "execution_count": null,
   "metadata": {},
   "outputs": [],
   "source": [
    "lst1=[\"Phil\", \"Oz\", \"Seuss\", \"Dre\"]\n",
    "lst2=[]\n",
    "#Type your answer here.\n",
    "\n",
    "\n",
    "\n",
    "\n",
    "print(lst2)\n",
    "\n"
   ]
  },
  {
   "cell_type": "markdown",
   "metadata": {},
   "source": [
    "**Write a for loop using an if statement, that appends each number to the new list if it's positive.**"
   ]
  },
  {
   "cell_type": "code",
   "execution_count": null,
   "metadata": {},
   "outputs": [],
   "source": [
    "lst1=[111, 32, -9, -45, -17, 9, 85, -10]\n",
    "lst2=[]\n",
    "#Type your answer here.\n",
    "\n",
    "\n",
    "\n",
    "print(lst2)\n",
    "\n"
   ]
  },
  {
   "cell_type": "markdown",
   "metadata": {},
   "source": [
    "**Write a for loop which appends the type of each element in the first list to the second list.**"
   ]
  },
  {
   "cell_type": "code",
   "execution_count": null,
   "metadata": {},
   "outputs": [],
   "source": [
    "lst1=[3.14, 66, \"Teddy Bear\", True, [], {}]\n",
    "lst2=[]\n",
    "#Type your answer here.\n",
    "\n",
    "\n",
    "\n",
    "print(lst2)\n",
    "\n"
   ]
  }
 ],
 "metadata": {
  "kernelspec": {
   "display_name": "Python 3",
   "language": "python",
   "name": "python3"
  },
  "language_info": {
   "codemirror_mode": {
    "name": "ipython",
    "version": 3
   },
   "file_extension": ".py",
   "mimetype": "text/x-python",
   "name": "python",
   "nbconvert_exporter": "python",
   "pygments_lexer": "ipython3",
   "version": "3.8.5"
  }
 },
 "nbformat": 4,
 "nbformat_minor": 4
}
