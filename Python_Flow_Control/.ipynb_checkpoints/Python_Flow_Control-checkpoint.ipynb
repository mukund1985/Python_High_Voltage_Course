{
 "cells": [
  {
   "cell_type": "markdown",
   "metadata": {},
   "source": [
    "# Python Flow Control\n",
    "\n",
    "* **If-Else**\n",
    "* **For Loop**\n",
    "* **While Loop**\n",
    "* **Break and Continue**\n",
    "* **Pass**"
   ]
  },
  {
   "cell_type": "markdown",
   "metadata": {},
   "source": [
    "## If-Else\n",
    "\n",
    "- Decision making is required when we want to execute a code only if a certain condition is satisfied.\n",
    "- The if…elif…else statement is used in Python for decision making."
   ]
  },
  {
   "cell_type": "markdown",
   "metadata": {},
   "source": [
    "#### if-else"
   ]
  },
  {
   "cell_type": "code",
   "execution_count": 2,
   "metadata": {},
   "outputs": [
    {
     "name": "stdout",
     "output_type": "stream",
     "text": [
      "Please enter a number: -2\n",
      "Num is Negative\n"
     ]
    }
   ],
   "source": [
    "num = int(input(\"Please enter a number: \"))\n",
    "\n",
    "if num >= 0:\n",
    "    print(\"Num is Positive\")\n",
    "    \n",
    "else:\n",
    "    print(\"Num is Negative\")"
   ]
  },
  {
   "cell_type": "markdown",
   "metadata": {},
   "source": [
    "#### if-elif-else"
   ]
  },
  {
   "cell_type": "code",
   "execution_count": 4,
   "metadata": {},
   "outputs": [
    {
     "name": "stdout",
     "output_type": "stream",
     "text": [
      "Please enter a number: 0\n",
      "Number is zero\n"
     ]
    }
   ],
   "source": [
    "num = int(input(\"Please enter a number: \"))\n",
    "\n",
    "if num > 0:\n",
    "    print(\"Number is positive\")\n",
    "    \n",
    "elif num == 0:\n",
    "    print(\"Number is zero\")\n",
    "    \n",
    "else:\n",
    "    print(\"Number is negative\")"
   ]
  },
  {
   "cell_type": "markdown",
   "metadata": {},
   "source": [
    "#### Nested if"
   ]
  },
  {
   "cell_type": "code",
   "execution_count": 2,
   "metadata": {},
   "outputs": [
    {
     "name": "stdout",
     "output_type": "stream",
     "text": [
      "Enter a number: -5\n",
      "Negative Number\n"
     ]
    }
   ],
   "source": [
    "num = float(input(\"Enter a number: \"))\n",
    "\n",
    "if num > 0:\n",
    "    if num == 0:\n",
    "        print('Zero')\n",
    "        \n",
    "    else:\n",
    "        print('Positive Number')\n",
    "        \n",
    "else:\n",
    "    print('Negative Number')"
   ]
  },
  {
   "cell_type": "markdown",
   "metadata": {},
   "source": [
    "#### Excercise"
   ]
  },
  {
   "cell_type": "markdown",
   "metadata": {},
   "source": [
    "**Take values of length and breadth of a rectangle from user and check if it is square or not.**"
   ]
  },
  {
   "cell_type": "code",
   "execution_count": 14,
   "metadata": {},
   "outputs": [
    {
     "name": "stdout",
     "output_type": "stream",
     "text": [
      "Please enter length of a rectangle : 3\n",
      "Please enter breadth of a rectangle : 4\n",
      "Its a rectangle\n"
     ]
    }
   ],
   "source": [
    "ln = float(input(\"Please enter length of a rectangle : \"))\n",
    "br = float(input(\"Please enter breadth of a rectangle : \"))\n",
    "\n",
    "if (ln == br):\n",
    "    print(\"Its a square\")\n",
    "    \n",
    "else:\n",
    "    print(\"Its a rectangle\")"
   ]
  },
  {
   "cell_type": "markdown",
   "metadata": {},
   "source": [
    "**Take two int values from user and print greatest among them.**"
   ]
  },
  {
   "cell_type": "code",
   "execution_count": 84,
   "metadata": {},
   "outputs": [
    {
     "name": "stdout",
     "output_type": "stream",
     "text": [
      "Please enter number 1: 2\n",
      "Please enter number 2: 2\n",
      "\n",
      "Number 2 is greater than Number 2\n"
     ]
    }
   ],
   "source": [
    "num1 = int(input(\"Please enter number 1: \"))\n",
    "num2 = int(input(\"Please enter number 2: \"))\n",
    "\n",
    "print()\n",
    "if num1 > num2:\n",
    "    print(\"Number {} is greater than Number {}\" .format(num1, num2))\n",
    "    \n",
    "elif num1 == num2:\n",
    "    print(\"Both the numbers are same.\")\n",
    "    \n",
    "else:\n",
    "    print(\"Number {} is greater than Number {}\" .format(num2, num1))"
   ]
  },
  {
   "cell_type": "markdown",
   "metadata": {},
   "source": [
    "**A shop will give discount of 10% if the cost of purchased quantity is more than 1000.\n",
    "Ask user for quantity\n",
    "Suppose, one unit will cost 100.\n",
    "Judge and print total cost for user.**"
   ]
  },
  {
   "cell_type": "code",
   "execution_count": 36,
   "metadata": {},
   "outputs": [
    {
     "name": "stdout",
     "output_type": "stream",
     "text": [
      "Please enter number of quantity you want from my shop: 23\n",
      "Your total cost is:  2300\n"
     ]
    }
   ],
   "source": [
    "quan = int(input(\"Please enter number of quantity you want from my shop: \"))\n",
    "\n",
    "total = quan * 100\n",
    "\n",
    "if quan > 1000:\n",
    "    disc_p = (total * 10) / 100\n",
    "    print(\"You are valuable customer so we are giving 10% discount and your total cost is: \", disc_p)\n",
    "    \n",
    "elif quan == 1000:\n",
    "    print(\"Your total cost is {}, next time please add more than 1000 to get discount\" .format(total))\n",
    "    \n",
    "else:\n",
    "    print(\"Your total cost is: \", total)\n",
    "    "
   ]
  },
  {
   "cell_type": "markdown",
   "metadata": {},
   "source": [
    " **A company decided to give bonus of 5% to employee if his/her year of service is more than 5 years.\n",
    "Ask user for their salary and year of service and print the net bonus amount.**"
   ]
  },
  {
   "cell_type": "code",
   "execution_count": 54,
   "metadata": {},
   "outputs": [
    {
     "name": "stdout",
     "output_type": "stream",
     "text": [
      "Please enter your exact salary to know bonus amount: 3000000\n",
      "Please enter your year of service with us: 6\n",
      "Your this year bonus is 150000.0, go and enjoy the time.\n"
     ]
    }
   ],
   "source": [
    "sal = int(input(\"Please enter your exact salary to know bonus amount: \"))\n",
    "yos = int(input(\"Please enter your year of service with us: \"))\n",
    "\n",
    "\n",
    "if yos > 5:\n",
    "          bonus = (sal * 5)/ 100\n",
    "          print(\"Your this year bonus is {}, go and enjoy the time.\" .format(bonus))\n",
    "    \n",
    "elif yos == 5:\n",
    "          print(\"You will be elgible to bonus next year.\")\n",
    "    \n",
    "else:\n",
    "          year_left = 5 - yos\n",
    "          print(\"You will be eligible to bonus in {} Years.\" .format(year_left))\n",
    "    "
   ]
  },
  {
   "cell_type": "markdown",
   "metadata": {},
   "source": [
    "**A school has following rules for grading system:**\n",
    "\n",
    "- **Below 25 - F**\n",
    "- **25 to 45 - E**\n",
    "- **45 to 50 - D**\n",
    "- **50 to 60 - C**\n",
    "- **60 to 80 - B**\n",
    "- **Above 80 - A**\n",
    "\n",
    "**Ask user to enter marks and print the corresponding grade.**"
   ]
  },
  {
   "cell_type": "code",
   "execution_count": 80,
   "metadata": {},
   "outputs": [
    {
     "name": "stdout",
     "output_type": "stream",
     "text": [
      "Please enter your Total Marks in current year: 27\n",
      "You got E grade because you entered your marks as: 27\n"
     ]
    }
   ],
   "source": [
    "marks = int(input(\"Please enter your Total Marks in current year: \"))\n",
    "\n",
    "if marks <= 25:\n",
    "    print(\"You got F grade because you entered your marks as:\", marks)\n",
    "    \n",
    "elif 25 < marks <= 45:\n",
    "    print(\"You got E grade because you entered your marks as:\", marks)\n",
    "    \n",
    "elif 45 < marks <= 50:\n",
    "    print(\"You got D grade because you entered your marks as:\", marks)\n",
    "    \n",
    "elif marks > 50 and marks <= 60:\n",
    "    print(\"You got C grade because you entered your marks as:\", marks)\n",
    "    \n",
    "elif marks > 60 and marks <= 80:\n",
    "    print(\"You got B grade because you entered your marks as:\", marks)\n",
    "    \n",
    "else:\n",
    "    print(\"You got A grade because you entered your marks as:\", marks)"
   ]
  },
  {
   "cell_type": "markdown",
   "metadata": {},
   "source": [
    "**Take input of age of 3 people by user and determine oldest and youngest among them.**"
   ]
  },
  {
   "cell_type": "code",
   "execution_count": 93,
   "metadata": {},
   "outputs": [
    {
     "name": "stdout",
     "output_type": "stream",
     "text": [
      "Please enter age of Ram: 34\n",
      "Please enter age of Mohan: 21\n",
      "Please enter age of Shyam: 78\n",
      "Shyam is Oldest and Mohan is Yongest among Ram, Mohan and Shyam \n"
     ]
    }
   ],
   "source": [
    "Ram = int(input(\"Please enter age of Ram: \"))\n",
    "Mohan = int(input(\"Please enter age of Mohan: \"))\n",
    "Shyam = int(input(\"Please enter age of Shyam: \"))\n",
    "\n",
    "if Mohan < Ram > Shyam and Mohan > Shyam < Ram:\n",
    "    print(\"Ram is Oldest and Shyam is Yongest among Ram, Mohan and Shyam\")\n",
    "    \n",
    "elif Ram < Mohan > Shyam and Mohan > Ram < Shyam:\n",
    "    print(\"Mohan is Oldest and Ram is Yongest among Ram, Mohan and Shyam\")\n",
    "    \n",
    "else:\n",
    "    print(\"Shyam is Oldest and Mohan is Yongest among Ram, Mohan and Shyam \")"
   ]
  },
  {
   "cell_type": "markdown",
   "metadata": {},
   "source": [
    "**Write a program to print absolute vlaue of a number entered by user.** \n",
    "\n",
    "E.g.-\n",
    "\n",
    "- **INPUT: 1  OUTPUT: 1**\n",
    "- **INPUT: -1 OUTPUT: 1**"
   ]
  },
  {
   "cell_type": "code",
   "execution_count": 106,
   "metadata": {},
   "outputs": [
    {
     "name": "stdout",
     "output_type": "stream",
     "text": [
      "Please enter a number whose absolute value you want: -1\n",
      "Absolute value of -1 is 1\n"
     ]
    }
   ],
   "source": [
    "num = int(input(\"Please enter a number whose absolute value you want: \"))\n",
    "\n",
    "if num > 0:\n",
    "    if num == 0:\n",
    "        print(\"Absolute value of {} is 0\" .format (num))\n",
    "        \n",
    "    else:\n",
    "        print(\"Absolute value of {} is {}.\" .format(num, num))\n",
    "        \n",
    "else:\n",
    "    neg = num * -1\n",
    "    print(\"Absolute value of {} is {}\" .format(num,neg))"
   ]
  },
  {
   "cell_type": "markdown",
   "metadata": {},
   "source": [
    "**A student will not be allowed to sit in exam if his/her attendence is less than 75%.**\n",
    "\n",
    "- Take following input from user\n",
    "- Number of classes held\n",
    "- Number of classes attended.\n",
    "- And print\n",
    "- percentage of class attended\n",
    "\n",
    "**Is student is allowed to sit in exam or not.**"
   ]
  },
  {
   "cell_type": "code",
   "execution_count": 114,
   "metadata": {},
   "outputs": [
    {
     "name": "stdout",
     "output_type": "stream",
     "text": [
      "Please enter number of classes held this year30\n",
      "Please enter number of classes attended by you in this year. 22.5\n",
      "Good, You are allowed to sit in the examination this year. All the best. \n"
     ]
    }
   ],
   "source": [
    "noch = float(input(\"Please enter number of classes held this year\"))\n",
    "noca = float(input(\"Please enter number of classes attended by you in this year. \"))\n",
    "\n",
    "perc = ((noca / noch) * 100)\n",
    "\n",
    "if perc < 75:\n",
    "    print(\"Sorry ! you are not allowed to sit in examination this year.\")\n",
    "    \n",
    "else:\n",
    "    print(\"Good, You are allowed to sit in the examination this year. All the best. \")"
   ]
  },
  {
   "cell_type": "markdown",
   "metadata": {},
   "source": [
    "**Modify the above question to allow student to sit if he/she has medical cause. Ask user if he/she has medical cause or not ( 'Y' or 'N' ) and print accordingly.**"
   ]
  },
  {
   "cell_type": "code",
   "execution_count": 115,
   "metadata": {},
   "outputs": [
    {
     "name": "stdout",
     "output_type": "stream",
     "text": [
      "Please enter number of classes held this year30\n",
      "Please enter number of classes attended by you in this year. 12\n",
      "Please press Y or N if you were COVID+ Y\n",
      "Sorry to hear about your medical condition but you are allowed to sit in examination. All the best.\n"
     ]
    }
   ],
   "source": [
    "noch = float(input(\"Please enter number of classes held this year\"))\n",
    "noca = float(input(\"Please enter number of classes attended by you in this year. \"))\n",
    "medical = input(\"Please press Y or N if you were COVID+ \")\n",
    "\n",
    "perc = ((noca / noch) * 100)\n",
    "\n",
    "if perc < 75:\n",
    "    if medical == 'Y':\n",
    "        print(\"Sorry to hear about your medical condition but you are allowed to sit in examination. All the best.\")\n",
    "    else:\n",
    "        print(\"Sorry ! you are not allowed to sit in examination this year.\")\n",
    "    \n",
    "else:\n",
    "    print(\"Good, You are allowed to sit in the examination this year. All the best. \")"
   ]
  },
  {
   "cell_type": "code",
   "execution_count": 119,
   "metadata": {},
   "outputs": [
    {
     "name": "stdout",
     "output_type": "stream",
     "text": [
      "Please enter number of classes held this year 34\n",
      "Please enter number of classes attended by you in this year. 33\n",
      "Please press Y or N if you were COVID+ N\n",
      "Good, You are allowed to sit in the examination this year. All the best. \n"
     ]
    }
   ],
   "source": [
    "noch = float(input(\"Please enter number of classes held this year \"))\n",
    "noca = float(input(\"Please enter number of classes attended by you in this year. \"))\n",
    "medical = input(\"Please press Y or N if you were COVID+ \")\n",
    "\n",
    "perc = ((noca / noch) * 100)\n",
    "\n",
    "if perc > 75:\n",
    "    print(\"Good, You are allowed to sit in the examination this year. All the best. \")\n",
    "    \n",
    "    \n",
    "else:\n",
    "    if medical == 'Y':\n",
    "        print(\"Sorry to hear about your medical condition but you are allowed to sit in examination. All the best.\")\n",
    "    else:\n",
    "        print(\"Sorry ! you are not allowed to sit in examination this year.\")\n",
    "    "
   ]
  },
  {
   "cell_type": "markdown",
   "metadata": {},
   "source": [
    "**Write a program to check if a year is leap year or not.\n",
    "If a year is divisible by 4 then it is leap year but if the year is century year like 2000, 1900, 2100 then it must be divisible by 400.**"
   ]
  },
  {
   "cell_type": "code",
   "execution_count": null,
   "metadata": {},
   "outputs": [],
   "source": []
  },
  {
   "cell_type": "markdown",
   "metadata": {},
   "source": [
    "**Ask user to enter age, sex ( M or F ), marital status ( Y or N ) and then using following rules print their place of service.\n",
    "if employee is female, then she will work only in urban areas.**\n",
    "\n",
    "- if employee is a male and age is in between 20 to 40 then he may work in anywhere\n",
    "\n",
    "- if employee is male and age is in between 40 t0 60 then he will work in urban areas only.\n",
    "\n",
    "- And any other input of age should print \"ERROR\"."
   ]
  },
  {
   "cell_type": "code",
   "execution_count": null,
   "metadata": {},
   "outputs": [],
   "source": []
  },
  {
   "cell_type": "markdown",
   "metadata": {},
   "source": [
    "**A 4 digit number is entered through keyboard. Write a program to print a new number with digits reversed as of orignal one.** \n",
    "\n",
    "E.g.-\n",
    "\n",
    "- **INPUT : 1234        OUTPUT : 4321**\n",
    "- **INPUT : 5982        OUTPUT : 2895**"
   ]
  },
  {
   "cell_type": "code",
   "execution_count": null,
   "metadata": {},
   "outputs": [],
   "source": []
  }
 ],
 "metadata": {
  "kernelspec": {
   "display_name": "Python 3",
   "language": "python",
   "name": "python3"
  },
  "language_info": {
   "codemirror_mode": {
    "name": "ipython",
    "version": 3
   },
   "file_extension": ".py",
   "mimetype": "text/x-python",
   "name": "python",
   "nbconvert_exporter": "python",
   "pygments_lexer": "ipython3",
   "version": "3.8.5"
  }
 },
 "nbformat": 4,
 "nbformat_minor": 4
}
